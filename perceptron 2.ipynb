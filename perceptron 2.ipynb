{
 "cells": [
  {
   "cell_type": "code",
   "execution_count": 14,
   "metadata": {},
   "outputs": [],
   "source": [
    "import numpy as np\n",
    "from numpy.random import seed \n",
    "import pandas as pd \n",
    "import matplotlib.pyplot as plt\n",
    "from matplotlib.colors import ListedColormap\n",
    "from matplotlib import rcParams\n",
    "\n",
    "rcParams[\"figure.figsize\"] = 10,5\n",
    "%matplotlib inline "
   ]
  },
  {
   "cell_type": "code",
   "execution_count": 24,
   "metadata": {},
   "outputs": [],
   "source": [
    "class Perceptron(object):\n",
    "    \n",
    "    def _init_ (self, eta= 0.01, n_inter= 10):\n",
    "        self.eta = eta\n",
    "        self.n_inter = n_inter\n",
    "    \n",
    "    def fit(self, x, y):\n",
    "        self.w_ = np.zeros(1 + x.shape[1])\n",
    "        self.erros_ = []\n",
    "        \n",
    "        for _ in range(self.n_inter):\n",
    "            erros = 0\n",
    "            \n",
    "            for xi, target in zip(x,y):\n",
    "                update = self.eta * (target - self.predict(xi))\n",
    "                self.w_[1:] += update *xi\n",
    "                self.w_[0] += update\n",
    "                erros += int(update != 0.0)\n",
    "            self.erros_.append(erros)\n",
    "        return self\n",
    "    \n",
    "    def net_input(self, x):\n",
    "        return np.dot(x, self.w_[1:]) + self.w_[0]\n",
    "    \n",
    "    def predict(self, x):\n",
    "        return np.where(self.net_input(x) >= 0.0, 1, -1)"
   ]
  },
  {
   "cell_type": "code",
   "execution_count": 16,
   "metadata": {
    "scrolled": true
   },
   "outputs": [
    {
     "data": {
      "text/plain": [
       "'5.1 3.5 1\\n4.9 3 1\\n4.7 3.2 1\\n4.6 3.1 1\\n5 3.6 1\\n5.4 3.9 1\\n4.6 3.4 1\\n5 3.4 1\\n4.4 2.9 1\\n4.9 3.1 1\\n5.4 3.7 1\\n4.8 3.4 1\\n4.8 3 1\\n4.3 3 1\\n5.8 4 1\\n5.7 4.4 1\\n5.4 3.9 1\\n5.1 3.5 1\\n5.7 3.8 1\\n5.1 3.8 1\\n5.4 3.4 1\\n5.1 3.7 1\\n4.6 3.6 1\\n4.6 3.8 1\\n5.1 3.3 1\\n4.8 3.4 1\\n5 3 1\\n5 3.4 1\\n5.2 3.5 1\\n5.2 3.4 1\\n4.7 3.2 1\\n4.8 3.1 1\\n5.4 3.4 1\\n5.2 4.1 1\\n5.5 4.2 1\\n4.9 3.1 1\\n5 3.2 1\\n5.5 3.5 1\\n4.9 3.1 1\\n4.4 3 1\\n5.1 3.4 1\\n5 3.5 1\\n4.4 3.2 1\\n5 3.5 1\\n5.1 3.8 1\\n4.8 3 1\\n5.1 3.8 1\\n4.6 3.2 1\\n5.3 3.7 1\\n5 3.3 1\\n7 3.2 2\\n6.4 3.2 2\\n6.9 3.1 2\\n5.5 2.3 2\\n6.5 2.8 2\\n5.7 2.8 2\\n6.3 3.3 2\\n4.9 2.4 2\\n6.6 2.9 2\\n5.2 2.7 2\\n5 2 2\\n5.9 3 2\\n6 2.2 2\\n6.1 2.9 2\\n5.6 2.9 2\\n6.7 3.1 2\\n5.6 3 2\\n5.8 2.7 2\\n6.2 2.2 2\\n5.6 2.5 2\\n5.9 3.2 2\\n6.1 2.8 2\\n6.3 2.5 2\\n6.1 2.8 2\\n6.4 2.9 2\\n6.6 3 2\\n6.8 2.8 2\\n6.7 3 2\\n6 2.9 2\\n5.7 2.6 2\\n5.5 2.4 2\\n5.5 2.4 2\\n5.8 2.7 2\\n6 2.7 2\\n5.4 3 2\\n6 3.4 2\\n6.7 3.1 2\\n6.3 2.3 2\\n5.6 3 2\\n5.5 2.5 2\\n5.5 2.6 2\\n6.1 3 2\\n5.8 2.6 2\\n5 2.3 2\\n5.6 2.7 2\\n5.7 3 2\\n5.7 2.9 2\\n6.2 2.9 2\\n5.1 2.5 2\\n5.7 2.8 2\\n'"
      ]
     },
     "execution_count": 16,
     "metadata": {},
     "output_type": "execute_result"
    }
   ],
   "source": [
    "file = open('entrada2.txt', 'r')\n",
    "file.read()"
   ]
  },
  {
   "cell_type": "code",
   "execution_count": 17,
   "metadata": {},
   "outputs": [
    {
     "data": {
      "text/html": [
       "<div>\n",
       "<style scoped>\n",
       "    .dataframe tbody tr th:only-of-type {\n",
       "        vertical-align: middle;\n",
       "    }\n",
       "\n",
       "    .dataframe tbody tr th {\n",
       "        vertical-align: top;\n",
       "    }\n",
       "\n",
       "    .dataframe thead th {\n",
       "        text-align: right;\n",
       "    }\n",
       "</style>\n",
       "<table border=\"1\" class=\"dataframe\">\n",
       "  <thead>\n",
       "    <tr style=\"text-align: right;\">\n",
       "      <th></th>\n",
       "      <th>0</th>\n",
       "      <th>1</th>\n",
       "      <th>2</th>\n",
       "    </tr>\n",
       "  </thead>\n",
       "  <tbody>\n",
       "    <tr>\n",
       "      <th>count</th>\n",
       "      <td>100.000000</td>\n",
       "      <td>100.000000</td>\n",
       "      <td>100.000000</td>\n",
       "    </tr>\n",
       "    <tr>\n",
       "      <th>mean</th>\n",
       "      <td>5.472000</td>\n",
       "      <td>3.109000</td>\n",
       "      <td>1.500000</td>\n",
       "    </tr>\n",
       "    <tr>\n",
       "      <th>std</th>\n",
       "      <td>0.640246</td>\n",
       "      <td>0.474415</td>\n",
       "      <td>0.502519</td>\n",
       "    </tr>\n",
       "    <tr>\n",
       "      <th>min</th>\n",
       "      <td>4.300000</td>\n",
       "      <td>2.000000</td>\n",
       "      <td>1.000000</td>\n",
       "    </tr>\n",
       "    <tr>\n",
       "      <th>25%</th>\n",
       "      <td>5.000000</td>\n",
       "      <td>2.800000</td>\n",
       "      <td>1.000000</td>\n",
       "    </tr>\n",
       "    <tr>\n",
       "      <th>50%</th>\n",
       "      <td>5.400000</td>\n",
       "      <td>3.100000</td>\n",
       "      <td>1.500000</td>\n",
       "    </tr>\n",
       "    <tr>\n",
       "      <th>75%</th>\n",
       "      <td>5.900000</td>\n",
       "      <td>3.400000</td>\n",
       "      <td>2.000000</td>\n",
       "    </tr>\n",
       "    <tr>\n",
       "      <th>max</th>\n",
       "      <td>7.000000</td>\n",
       "      <td>4.400000</td>\n",
       "      <td>2.000000</td>\n",
       "    </tr>\n",
       "  </tbody>\n",
       "</table>\n",
       "</div>"
      ],
      "text/plain": [
       "                0           1           2\n",
       "count  100.000000  100.000000  100.000000\n",
       "mean     5.472000    3.109000    1.500000\n",
       "std      0.640246    0.474415    0.502519\n",
       "min      4.300000    2.000000    1.000000\n",
       "25%      5.000000    2.800000    1.000000\n",
       "50%      5.400000    3.100000    1.500000\n",
       "75%      5.900000    3.400000    2.000000\n",
       "max      7.000000    4.400000    2.000000"
      ]
     },
     "execution_count": 17,
     "metadata": {},
     "output_type": "execute_result"
    }
   ],
   "source": [
    "Dataset = pd.read_csv('entrada2.txt', sep=' ', header = None)\n",
    "Dataset.describe()"
   ]
  },
  {
   "cell_type": "code",
   "execution_count": 18,
   "metadata": {},
   "outputs": [
    {
     "data": {
      "text/html": [
       "<div>\n",
       "<style scoped>\n",
       "    .dataframe tbody tr th:only-of-type {\n",
       "        vertical-align: middle;\n",
       "    }\n",
       "\n",
       "    .dataframe tbody tr th {\n",
       "        vertical-align: top;\n",
       "    }\n",
       "\n",
       "    .dataframe thead th {\n",
       "        text-align: right;\n",
       "    }\n",
       "</style>\n",
       "<table border=\"1\" class=\"dataframe\">\n",
       "  <thead>\n",
       "    <tr style=\"text-align: right;\">\n",
       "      <th></th>\n",
       "      <th>0</th>\n",
       "      <th>1</th>\n",
       "      <th>2</th>\n",
       "    </tr>\n",
       "  </thead>\n",
       "  <tbody>\n",
       "    <tr>\n",
       "      <th>0</th>\n",
       "      <td>5.1</td>\n",
       "      <td>3.5</td>\n",
       "      <td>1</td>\n",
       "    </tr>\n",
       "    <tr>\n",
       "      <th>1</th>\n",
       "      <td>4.9</td>\n",
       "      <td>3.0</td>\n",
       "      <td>1</td>\n",
       "    </tr>\n",
       "    <tr>\n",
       "      <th>2</th>\n",
       "      <td>4.7</td>\n",
       "      <td>3.2</td>\n",
       "      <td>1</td>\n",
       "    </tr>\n",
       "    <tr>\n",
       "      <th>3</th>\n",
       "      <td>4.6</td>\n",
       "      <td>3.1</td>\n",
       "      <td>1</td>\n",
       "    </tr>\n",
       "    <tr>\n",
       "      <th>4</th>\n",
       "      <td>5.0</td>\n",
       "      <td>3.6</td>\n",
       "      <td>1</td>\n",
       "    </tr>\n",
       "    <tr>\n",
       "      <th>5</th>\n",
       "      <td>5.4</td>\n",
       "      <td>3.9</td>\n",
       "      <td>1</td>\n",
       "    </tr>\n",
       "    <tr>\n",
       "      <th>6</th>\n",
       "      <td>4.6</td>\n",
       "      <td>3.4</td>\n",
       "      <td>1</td>\n",
       "    </tr>\n",
       "    <tr>\n",
       "      <th>7</th>\n",
       "      <td>5.0</td>\n",
       "      <td>3.4</td>\n",
       "      <td>1</td>\n",
       "    </tr>\n",
       "    <tr>\n",
       "      <th>8</th>\n",
       "      <td>4.4</td>\n",
       "      <td>2.9</td>\n",
       "      <td>1</td>\n",
       "    </tr>\n",
       "    <tr>\n",
       "      <th>9</th>\n",
       "      <td>4.9</td>\n",
       "      <td>3.1</td>\n",
       "      <td>1</td>\n",
       "    </tr>\n",
       "  </tbody>\n",
       "</table>\n",
       "</div>"
      ],
      "text/plain": [
       "     0    1  2\n",
       "0  5.1  3.5  1\n",
       "1  4.9  3.0  1\n",
       "2  4.7  3.2  1\n",
       "3  4.6  3.1  1\n",
       "4  5.0  3.6  1\n",
       "5  5.4  3.9  1\n",
       "6  4.6  3.4  1\n",
       "7  5.0  3.4  1\n",
       "8  4.4  2.9  1\n",
       "9  4.9  3.1  1"
      ]
     },
     "execution_count": 18,
     "metadata": {},
     "output_type": "execute_result"
    }
   ],
   "source": [
    "Dataset.head(10)"
   ]
  },
  {
   "cell_type": "code",
   "execution_count": 19,
   "metadata": {},
   "outputs": [
    {
     "data": {
      "text/plain": [
       "5.0    10\n",
       "5.1     9\n",
       "5.5     7\n",
       "5.7     7\n",
       "5.4     6\n",
       "4.9     5\n",
       "4.8     5\n",
       "4.6     5\n",
       "5.6     5\n",
       "5.8     4\n",
       "6.1     4\n",
       "6.0     4\n",
       "5.2     4\n",
       "4.4     3\n",
       "6.3     3\n",
       "6.7     3\n",
       "4.7     2\n",
       "6.4     2\n",
       "5.9     2\n",
       "6.2     2\n",
       "6.6     2\n",
       "5.3     1\n",
       "6.9     1\n",
       "4.3     1\n",
       "6.8     1\n",
       "6.5     1\n",
       "7.0     1\n",
       "Name: 0, dtype: int64"
      ]
     },
     "execution_count": 19,
     "metadata": {},
     "output_type": "execute_result"
    }
   ],
   "source": [
    "Dataset[0].value_counts()"
   ]
  },
  {
   "cell_type": "code",
   "execution_count": 20,
   "metadata": {},
   "outputs": [],
   "source": [
    "x_array = Dataset.values[:, 0:2]\n",
    "y_array = Dataset.values[:,2]"
   ]
  },
  {
   "cell_type": "code",
   "execution_count": 21,
   "metadata": {},
   "outputs": [
    {
     "data": {
      "text/plain": [
       "Text(0, 0.5, 'Sepal.Length')"
      ]
     },
     "execution_count": 21,
     "metadata": {},
     "output_type": "execute_result"
    },
    {
     "data": {
      "image/png": "[encoded data removed]",
      "text/plain": [
       "<Figure size 432x288 with 1 Axes>"
      ]
     },
     "metadata": {
      "needs_background": "light"
     },
     "output_type": "display_data"
    }
   ],
   "source": [
    "plt.scatter(x_array[:,1],x_array[:,0],c=y_array)\n",
    "plt.title(\"Setosa x versicolor\" )\n",
    "plt.xlabel('Sepal.Width')\n",
    "plt.ylabel('Sepal.Length')"
   ]
  },
  {
   "cell_type": "code",
   "execution_count": 22,
   "metadata": {},
   "outputs": [],
   "source": [
    "teste = Perceptron()"
   ]
  },
  {
   "cell_type": "code",
   "execution_count": 23,
   "metadata": {},
   "outputs": [
    {
     "ename": "AttributeError",
     "evalue": "'Perceptron' object has no attribute 'n_inter'",
     "output_type": "error",
     "traceback": [
      "\u001b[1;31m---------------------------------------------------------------------------\u001b[0m",
      "\u001b[1;31mAttributeError\u001b[0m                            Traceback (most recent call last)",
      "\u001b[1;32m<ipython-input-23-f50a569add2a>\u001b[0m in \u001b[0;36m<module>\u001b[1;34m\u001b[0m\n\u001b[1;32m----> 1\u001b[1;33m \u001b[0mteste\u001b[0m\u001b[1;33m.\u001b[0m\u001b[0mfit\u001b[0m\u001b[1;33m(\u001b[0m\u001b[0mx_array\u001b[0m\u001b[1;33m,\u001b[0m\u001b[0my_array\u001b[0m\u001b[1;33m)\u001b[0m\u001b[1;33m\u001b[0m\u001b[1;33m\u001b[0m\u001b[0m\n\u001b[0m",
      "\u001b[1;32m<ipython-input-15-ec6c3c638075>\u001b[0m in \u001b[0;36mfit\u001b[1;34m(self, x, y)\u001b[0m\n\u001b[0;32m      9\u001b[0m         \u001b[0mself\u001b[0m\u001b[1;33m.\u001b[0m\u001b[0merros_\u001b[0m \u001b[1;33m=\u001b[0m \u001b[1;33m[\u001b[0m\u001b[1;33m]\u001b[0m\u001b[1;33m\u001b[0m\u001b[1;33m\u001b[0m\u001b[0m\n\u001b[0;32m     10\u001b[0m \u001b[1;33m\u001b[0m\u001b[0m\n\u001b[1;32m---> 11\u001b[1;33m         \u001b[1;32mfor\u001b[0m \u001b[0m_\u001b[0m \u001b[1;32min\u001b[0m \u001b[0mrange\u001b[0m\u001b[1;33m(\u001b[0m\u001b[0mself\u001b[0m\u001b[1;33m.\u001b[0m\u001b[0mn_inter\u001b[0m\u001b[1;33m)\u001b[0m\u001b[1;33m:\u001b[0m\u001b[1;33m\u001b[0m\u001b[1;33m\u001b[0m\u001b[0m\n\u001b[0m\u001b[0;32m     12\u001b[0m             \u001b[0merros\u001b[0m \u001b[1;33m=\u001b[0m \u001b[1;36m0\u001b[0m\u001b[1;33m\u001b[0m\u001b[1;33m\u001b[0m\u001b[0m\n\u001b[0;32m     13\u001b[0m \u001b[1;33m\u001b[0m\u001b[0m\n",
      "\u001b[1;31mAttributeError\u001b[0m: 'Perceptron' object has no attribute 'n_inter'"
     ]
    }
   ],
   "source": [
    "teste.fit(x_array,y_array)"
   ]
  },
  {
   "cell_type": "code",
   "execution_count": null,
   "metadata": {},
   "outputs": [],
   "source": []
  }
 ],
 "metadata": {
  "kernelspec": {
   "display_name": "Python 3",
   "language": "python",
   "name": "python3"
  },
  "language_info": {
   "codemirror_mode": {
    "name": "ipython",
    "version": 3
   },
   "file_extension": ".py",
   "mimetype": "text/x-python",
   "name": "python",
   "nbconvert_exporter": "python",
   "pygments_lexer": "ipython3",
   "version": "3.7.4"
  }
 },
 "nbformat": 4,
 "nbformat_minor": 2
}
