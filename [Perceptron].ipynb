{
 "cells": [
  {
   "cell_type": "code",
   "execution_count": 17,
   "metadata": {},
   "outputs": [],
   "source": [
    "import tensorflow as tf\n",
    "import numpy as np\n",
    "import matplotlib.pyplot as plt\n",
    "import pandas as pd\n",
    "import datetime as dt\n",
    "import csv\n",
    "from tabulate import tabulate as tb\n",
    "%matplotlib inline\n",
    "\n",
    "import ai_utils.metrics as ai\n",
    "import sklearn as sk"
   ]
  },
  {
   "cell_type": "code",
   "execution_count": 18,
   "metadata": {},
   "outputs": [
    {
     "data": {
      "text/html": [
       "<div>\n",
       "<style scoped>\n",
       "    .dataframe tbody tr th:only-of-type {\n",
       "        vertical-align: middle;\n",
       "    }\n",
       "\n",
       "    .dataframe tbody tr th {\n",
       "        vertical-align: top;\n",
       "    }\n",
       "\n",
       "    .dataframe thead th {\n",
       "        text-align: right;\n",
       "    }\n",
       "</style>\n",
       "<table border=\"1\" class=\"dataframe\">\n",
       "  <thead>\n",
       "    <tr style=\"text-align: right;\">\n",
       "      <th></th>\n",
       "      <th>0</th>\n",
       "    </tr>\n",
       "  </thead>\n",
       "  <tbody>\n",
       "    <tr>\n",
       "      <th>count</th>\n",
       "      <td>101</td>\n",
       "    </tr>\n",
       "    <tr>\n",
       "      <th>unique</th>\n",
       "      <td>83</td>\n",
       "    </tr>\n",
       "    <tr>\n",
       "      <th>top</th>\n",
       "      <td>4.9 3.1 1</td>\n",
       "    </tr>\n",
       "    <tr>\n",
       "      <th>freq</th>\n",
       "      <td>3</td>\n",
       "    </tr>\n",
       "  </tbody>\n",
       "</table>\n",
       "</div>"
      ],
      "text/plain": [
       "                0\n",
       "count         101\n",
       "unique         83\n",
       "top     4.9 3.1 1\n",
       "freq            3"
      ]
     },
     "execution_count": 18,
     "metadata": {},
     "output_type": "execute_result"
    }
   ],
   "source": [
    "Dataset = pd.read_csv('entrada.txt', sep='\\t', header = None)\n",
    "Dataset.describe()"
   ]
  },
  {
   "cell_type": "code",
   "execution_count": 19,
   "metadata": {},
   "outputs": [
    {
     "data": {
      "text/html": [
       "<div>\n",
       "<style scoped>\n",
       "    .dataframe tbody tr th:only-of-type {\n",
       "        vertical-align: middle;\n",
       "    }\n",
       "\n",
       "    .dataframe tbody tr th {\n",
       "        vertical-align: top;\n",
       "    }\n",
       "\n",
       "    .dataframe thead th {\n",
       "        text-align: right;\n",
       "    }\n",
       "</style>\n",
       "<table border=\"1\" class=\"dataframe\">\n",
       "  <thead>\n",
       "    <tr style=\"text-align: right;\">\n",
       "      <th></th>\n",
       "      <th>0</th>\n",
       "    </tr>\n",
       "  </thead>\n",
       "  <tbody>\n",
       "    <tr>\n",
       "      <th>0</th>\n",
       "      <td>2</td>\n",
       "    </tr>\n",
       "    <tr>\n",
       "      <th>1</th>\n",
       "      <td>5.1 3.5 1</td>\n",
       "    </tr>\n",
       "    <tr>\n",
       "      <th>2</th>\n",
       "      <td>4.9 3 1</td>\n",
       "    </tr>\n",
       "    <tr>\n",
       "      <th>3</th>\n",
       "      <td>4.7 3.2 1</td>\n",
       "    </tr>\n",
       "    <tr>\n",
       "      <th>4</th>\n",
       "      <td>4.6 3.1 1</td>\n",
       "    </tr>\n",
       "    <tr>\n",
       "      <th>5</th>\n",
       "      <td>5 3.6 1</td>\n",
       "    </tr>\n",
       "    <tr>\n",
       "      <th>6</th>\n",
       "      <td>5.4 3.9 1</td>\n",
       "    </tr>\n",
       "    <tr>\n",
       "      <th>7</th>\n",
       "      <td>4.6 3.4 1</td>\n",
       "    </tr>\n",
       "    <tr>\n",
       "      <th>8</th>\n",
       "      <td>5 3.4 1</td>\n",
       "    </tr>\n",
       "    <tr>\n",
       "      <th>9</th>\n",
       "      <td>4.4 2.9 1</td>\n",
       "    </tr>\n",
       "  </tbody>\n",
       "</table>\n",
       "</div>"
      ],
      "text/plain": [
       "           0\n",
       "0          2\n",
       "1  5.1 3.5 1\n",
       "2    4.9 3 1\n",
       "3  4.7 3.2 1\n",
       "4  4.6 3.1 1\n",
       "5    5 3.6 1\n",
       "6  5.4 3.9 1\n",
       "7  4.6 3.4 1\n",
       "8    5 3.4 1\n",
       "9  4.4 2.9 1"
      ]
     },
     "execution_count": 19,
     "metadata": {},
     "output_type": "execute_result"
    }
   ],
   "source": [
    "Dataset.head(10)"
   ]
  },
  {
   "cell_type": "code",
   "execution_count": 20,
   "metadata": {},
   "outputs": [
    {
     "data": {
      "text/plain": [
       "4.9 3.1 1    3\n",
       "5.1 3.8 1    3\n",
       "5 3.5 1      2\n",
       "4.7 3.2 1    2\n",
       "5.6 3 2      2\n",
       "            ..\n",
       "6.3 2.5 2    1\n",
       "6 2.7 2      1\n",
       "5.7 4.4 1    1\n",
       "6.4 3.2 2    1\n",
       "6.7 3 2      1\n",
       "Name: 0, Length: 83, dtype: int64"
      ]
     },
     "execution_count": 20,
     "metadata": {},
     "output_type": "execute_result"
    }
   ],
   "source": [
    "Dataset[0].value_counts()"
   ]
  },
  {
   "cell_type": "code",
   "execution_count": 21,
   "metadata": {},
   "outputs": [],
   "source": [
    "header = Dataset[0:1]\n",
    "x_data = Dataset[0:4]\n",
    "y_data = Dataset"
   ]
  },
  {
   "cell_type": "code",
   "execution_count": 26,
   "metadata": {},
   "outputs": [],
   "source": [
    "class Perceptron(object):\n",
    "    \n",
    "    def __init__(self,alpha=0.01,n_features=3,n_iter=2000):\n",
    "        self.w = random.uniform(-1,1,n_features+1)\n",
    "        self.alhpa = alpha\n",
    "        self.n_iter = n_iter\n",
    " \n",
    "    def _0_1_loss(self,x): \n",
    "        if x >= 0.0:\n",
    "            return 1\n",
    "        else:\n",
    "            return 0\n",
    " \n",
    "    def fit(self, x_data,y_data):\n",
    " \n",
    "        x_data = np.insert(x_data[:,],len(x_data[0]),1,axis=1)\n",
    "        for x in range(self.n_iter):                         \n",
    "            print(\"iteração número:{}\".format(x))\n",
    "            cum_erro = 0                           #Armazena o erro acumulado para parar a otimização\n",
    "            for y in range(len(x_data)):\n",
    "                output = self.w.dot(x_data[y])     #O output é o produto dos pesos pela linha atual\n",
    "                if self._0_1_loss(output) != y_data[y]: \n",
    "                    cum_erro += 1\n",
    "                    erro = y_data[y] - output      #medir o erro da iteração de forma direta.(sem loss)\n",
    "                    self.w += self.alhpa*erro*x_data[y] #Aqui os pesos são atualizados\n",
    "            if cum_erro == 0:                      #Avaliação do erro acumulado caso sejá 0 para o treinamento.\n",
    "                print(\"Otimização terminada em {} iterações\".format(x))\n",
    "                break                \n",
    " \n",
    "    def predict(self,vector):\n",
    "        if np.ndim(vector) == 1:\n",
    "            vector = np.insert(vector,len(vector),1)\n",
    "            prediction = self._0_1_loss(self.w.dot(vector))\n",
    "            return prediction\n",
    "        else:\n",
    "            vector = np.insert(vector[:,],len(vector[0]),1,axis=1)\n",
    "            prediction = [self._0_1_loss(self.w.dot(x)) for x in vector]\n",
    "            return prediction"
   ]
  },
  {
   "cell_type": "code",
   "execution_count": 25,
   "metadata": {},
   "outputs": [
    {
     "ename": "TypeError",
     "evalue": "fit() missing 1 required positional argument: 'y_data'",
     "output_type": "error",
     "traceback": [
      "\u001b[1;31m---------------------------------------------------------------------------\u001b[0m",
      "\u001b[1;31mTypeError\u001b[0m                                 Traceback (most recent call last)",
      "\u001b[1;32m<ipython-input-25-960cfea8ae81>\u001b[0m in \u001b[0;36m<module>\u001b[1;34m\u001b[0m\n\u001b[1;32m----> 1\u001b[1;33m \u001b[0mPerceptron\u001b[0m\u001b[1;33m.\u001b[0m\u001b[0mfit\u001b[0m\u001b[1;33m(\u001b[0m\u001b[0mx_data\u001b[0m\u001b[1;33m,\u001b[0m\u001b[0my_data\u001b[0m\u001b[1;33m)\u001b[0m\u001b[1;33m\u001b[0m\u001b[1;33m\u001b[0m\u001b[0m\n\u001b[0m",
      "\u001b[1;31mTypeError\u001b[0m: fit() missing 1 required positional argument: 'y_data'"
     ]
    }
   ],
   "source": [
    "Perceptron.fit(x_data,y_data)"
   ]
  },
  {
   "cell_type": "code",
   "execution_count": null,
   "metadata": {},
   "outputs": [],
   "source": []
  }
 ],
 "metadata": {
  "kernelspec": {
   "display_name": "Python 3",
   "language": "python",
   "name": "python3"
  },
  "language_info": {
   "codemirror_mode": {
    "name": "ipython",
    "version": 3
   },
   "file_extension": ".py",
   "mimetype": "text/x-python",
   "name": "python",
   "nbconvert_exporter": "python",
   "pygments_lexer": "ipython3",
   "version": "3.7.4"
  }
 },
 "nbformat": 4,
 "nbformat_minor": 2
}
