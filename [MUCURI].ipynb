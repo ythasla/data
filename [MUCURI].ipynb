{
 "cells": [
  {
   "cell_type": "markdown",
   "metadata": {},
   "source": [
    "<h3> [MUCURI] Previsão de horas a frente </h3>"
   ]
  },
  {
   "cell_type": "markdown",
   "metadata": {},
   "source": [
    "Importando o tensorflow, o keras e as bibliotecas que serão usadas"
   ]
  },
  {
   "cell_type": "code",
   "execution_count": 1,
   "metadata": {},
   "outputs": [],
   "source": [
    "import tensorflow as tf\n",
    "from tensorflow import keras\n",
    "import numpy as np\n",
    "import matplotlib.pyplot as plt\n",
    "import pandas as pd\n",
    "\n",
    "%matplotlib inline\n",
    "\n",
    "from tensorflow.python.keras.models import Sequential\n",
    "from tensorflow.python.keras.layers import Input, Dense, GRU, Activation\n",
    "from tensorflow.python.keras.optimizers import adam\n",
    "from tensorflow.python.keras.callbacks import EarlyStopping, ModelCheckpoint, TensorBoard, ReduceLROnPlateau\n",
    "\n",
    "import ai_utils.metrics as ai\n",
    "import sklearn as sk"
   ]
  },
  {
   "cell_type": "markdown",
   "metadata": {},
   "source": [
    "Lendo o dataset e tratando os valores nulos "
   ]
  },
  {
   "cell_type": "code",
   "execution_count": 2,
   "metadata": {},
   "outputs": [
    {
     "data": {
      "text/html": [
       "<div>\n",
       "<style scoped>\n",
       "    .dataframe tbody tr th:only-of-type {\n",
       "        vertical-align: middle;\n",
       "    }\n",
       "\n",
       "    .dataframe tbody tr th {\n",
       "        vertical-align: top;\n",
       "    }\n",
       "\n",
       "    .dataframe thead th {\n",
       "        text-align: right;\n",
       "    }\n",
       "</style>\n",
       "<table border=\"1\" class=\"dataframe\">\n",
       "  <thead>\n",
       "    <tr style=\"text-align: right;\">\n",
       "      <th></th>\n",
       "      <th>0</th>\n",
       "      <th>1</th>\n",
       "      <th>2</th>\n",
       "      <th>3</th>\n",
       "      <th>4</th>\n",
       "      <th>5</th>\n",
       "      <th>6</th>\n",
       "      <th>7</th>\n",
       "      <th>8</th>\n",
       "    </tr>\n",
       "  </thead>\n",
       "  <tbody>\n",
       "    <tr>\n",
       "      <th>count</th>\n",
       "      <td>550.000000</td>\n",
       "      <td>550.000000</td>\n",
       "      <td>550.0</td>\n",
       "      <td>550.000000</td>\n",
       "      <td>550.000000</td>\n",
       "      <td>550.000000</td>\n",
       "      <td>550.000000</td>\n",
       "      <td>550.000000</td>\n",
       "      <td>550.000000</td>\n",
       "    </tr>\n",
       "    <tr>\n",
       "      <th>mean</th>\n",
       "      <td>12.087273</td>\n",
       "      <td>11.981818</td>\n",
       "      <td>2015.0</td>\n",
       "      <td>11.496364</td>\n",
       "      <td>8.176719</td>\n",
       "      <td>73.027647</td>\n",
       "      <td>24.443445</td>\n",
       "      <td>85.263578</td>\n",
       "      <td>1017.313986</td>\n",
       "    </tr>\n",
       "    <tr>\n",
       "      <th>std</th>\n",
       "      <td>6.891273</td>\n",
       "      <td>0.133730</td>\n",
       "      <td>0.0</td>\n",
       "      <td>6.940745</td>\n",
       "      <td>2.724988</td>\n",
       "      <td>64.996263</td>\n",
       "      <td>1.668117</td>\n",
       "      <td>8.579562</td>\n",
       "      <td>8.796185</td>\n",
       "    </tr>\n",
       "    <tr>\n",
       "      <th>min</th>\n",
       "      <td>1.000000</td>\n",
       "      <td>11.000000</td>\n",
       "      <td>2015.0</td>\n",
       "      <td>0.000000</td>\n",
       "      <td>1.211905</td>\n",
       "      <td>1.448179</td>\n",
       "      <td>20.616279</td>\n",
       "      <td>46.355556</td>\n",
       "      <td>937.534333</td>\n",
       "    </tr>\n",
       "    <tr>\n",
       "      <th>25%</th>\n",
       "      <td>6.000000</td>\n",
       "      <td>12.000000</td>\n",
       "      <td>2015.0</td>\n",
       "      <td>5.250000</td>\n",
       "      <td>6.215278</td>\n",
       "      <td>38.605367</td>\n",
       "      <td>23.315657</td>\n",
       "      <td>80.942222</td>\n",
       "      <td>1016.544542</td>\n",
       "    </tr>\n",
       "    <tr>\n",
       "      <th>50%</th>\n",
       "      <td>12.000000</td>\n",
       "      <td>12.000000</td>\n",
       "      <td>2015.0</td>\n",
       "      <td>11.000000</td>\n",
       "      <td>8.320000</td>\n",
       "      <td>59.019307</td>\n",
       "      <td>24.338280</td>\n",
       "      <td>86.765805</td>\n",
       "      <td>1020.046750</td>\n",
       "    </tr>\n",
       "    <tr>\n",
       "      <th>75%</th>\n",
       "      <td>18.000000</td>\n",
       "      <td>12.000000</td>\n",
       "      <td>2015.0</td>\n",
       "      <td>17.750000</td>\n",
       "      <td>10.146806</td>\n",
       "      <td>83.329498</td>\n",
       "      <td>25.359083</td>\n",
       "      <td>91.434531</td>\n",
       "      <td>1021.497917</td>\n",
       "    </tr>\n",
       "    <tr>\n",
       "      <th>max</th>\n",
       "      <td>30.000000</td>\n",
       "      <td>12.000000</td>\n",
       "      <td>2015.0</td>\n",
       "      <td>23.000000</td>\n",
       "      <td>13.572222</td>\n",
       "      <td>356.553715</td>\n",
       "      <td>30.140625</td>\n",
       "      <td>98.000000</td>\n",
       "      <td>1023.726500</td>\n",
       "    </tr>\n",
       "  </tbody>\n",
       "</table>\n",
       "</div>"
      ],
      "text/plain": [
       "                0           1       2           3           4           5  \\\n",
       "count  550.000000  550.000000   550.0  550.000000  550.000000  550.000000   \n",
       "mean    12.087273   11.981818  2015.0   11.496364    8.176719   73.027647   \n",
       "std      6.891273    0.133730     0.0    6.940745    2.724988   64.996263   \n",
       "min      1.000000   11.000000  2015.0    0.000000    1.211905    1.448179   \n",
       "25%      6.000000   12.000000  2015.0    5.250000    6.215278   38.605367   \n",
       "50%     12.000000   12.000000  2015.0   11.000000    8.320000   59.019307   \n",
       "75%     18.000000   12.000000  2015.0   17.750000   10.146806   83.329498   \n",
       "max     30.000000   12.000000  2015.0   23.000000   13.572222  356.553715   \n",
       "\n",
       "                6           7            8  \n",
       "count  550.000000  550.000000   550.000000  \n",
       "mean    24.443445   85.263578  1017.313986  \n",
       "std      1.668117    8.579562     8.796185  \n",
       "min     20.616279   46.355556   937.534333  \n",
       "25%     23.315657   80.942222  1016.544542  \n",
       "50%     24.338280   86.765805  1020.046750  \n",
       "75%     25.359083   91.434531  1021.497917  \n",
       "max     30.140625   98.000000  1023.726500  "
      ]
     },
     "execution_count": 2,
     "metadata": {},
     "output_type": "execute_result"
    }
   ],
   "source": [
    "Mucuri = pd.read_csv('./train150_mucuri.txt', sep='\\t', header = None)\n",
    "Mucuri.update(Mucuri[6].fillna(Mucuri[6].mean()))\n",
    "Mucuri.describe()"
   ]
  },
  {
   "cell_type": "markdown",
   "metadata": {},
   "source": [
    "Transformando o dataset em um numpy array e separando a coluna da velocidade do vento"
   ]
  },
  {
   "cell_type": "code",
   "execution_count": 3,
   "metadata": {},
   "outputs": [],
   "source": [
    "x_array = Mucuri.values \n",
    "y_array = list(Mucuri[4].values)"
   ]
  },
  {
   "cell_type": "markdown",
   "metadata": {},
   "source": [
    "Criando o modelo da rede"
   ]
  },
  {
   "cell_type": "code",
   "execution_count": 4,
   "metadata": {},
   "outputs": [],
   "source": [
    "def get_compiled_model():\n",
    "  model = tf.keras.Sequential([\n",
    "    tf.keras.layers.Dense(9, activation='relu', input_shape=(9,)),\n",
    "    tf.keras.layers.Dense(6, activation='relu'),\n",
    "    tf.keras.layers.Dense(1, activation='linear'),\n",
    "  ])\n",
    "\n",
    "  model.compile(optimizer='adam',\n",
    "                loss='mse',\n",
    "                metrics=['mae'])\n",
    "  return model"
   ]
  },
  {
   "cell_type": "markdown",
   "metadata": {},
   "source": [
    "Treinando a rede em 6 épocas"
   ]
  },
  {
   "cell_type": "code",
   "execution_count": 5,
   "metadata": {
    "scrolled": false
   },
   "outputs": [
    {
     "name": "stderr",
     "output_type": "stream",
     "text": [
      "WARNING: Logging before flag parsing goes to stderr.\n",
      "W0828 15:08:46.109520 10120 deprecation.py:506] From D:\\Anaconda\\envs\\tensorflow\\lib\\site-packages\\tensorflow\\python\\ops\\init_ops.py:1251: calling VarianceScaling.__init__ (from tensorflow.python.ops.init_ops) with dtype is deprecated and will be removed in a future version.\n",
      "Instructions for updating:\n",
      "Call initializer instance with the dtype argument instead of passing it to the constructor\n"
     ]
    },
    {
     "name": "stdout",
     "output_type": "stream",
     "text": [
      "Epoch 1/6\n",
      "550/550 [==============================] - 0s 216us/sample - loss: 71.5496 - mean_absolute_error: 6.8118\n",
      "Epoch 2/6\n",
      "550/550 [==============================] - 0s 42us/sample - loss: 52.4734 - mean_absolute_error: 5.9304\n",
      "Epoch 3/6\n",
      "550/550 [==============================] - 0s 40us/sample - loss: 48.8335 - mean_absolute_error: 5.7253\n",
      "Epoch 4/6\n",
      "550/550 [==============================] - 0s 53us/sample - loss: 47.0900 - mean_absolute_error: 5.5773\n",
      "Epoch 5/6\n",
      "550/550 [==============================] - 0s 45us/sample - loss: 44.0052 - mean_absolute_error: 5.3979\n",
      "Epoch 6/6\n",
      "550/550 [==============================] - 0s 45us/sample - loss: 41.7980 - mean_absolute_error: 5.3063\n"
     ]
    }
   ],
   "source": [
    "model = get_compiled_model()\n",
    "history = model.fit(x_array, y_array, epochs=6)"
   ]
  },
  {
   "cell_type": "code",
   "execution_count": 6,
   "metadata": {},
   "outputs": [
    {
     "name": "stdout",
     "output_type": "stream",
     "text": [
      "dict_keys(['loss', 'mean_absolute_error'])\n"
     ]
    }
   ],
   "source": [
    "print(history.history.keys())"
   ]
  },
  {
   "cell_type": "markdown",
   "metadata": {},
   "source": [
    "Gráfico de evolução do loss ao longo das épocas de treinamento"
   ]
  },
  {
   "cell_type": "code",
   "execution_count": 7,
   "metadata": {},
   "outputs": [
    {
     "name": "stdout",
     "output_type": "stream",
     "text": [
      "[71.54960024746981, 52.47342620849609, 48.833525099320845, 47.08999428488991, 44.005234985351564, 41.79801981839267]\n"
     ]
    },
    {
     "data": {
      "image/png": "[encoded data removed]",
      "text/plain": [
       "<Figure size 432x288 with 1 Axes>"
      ]
     },
     "metadata": {
      "needs_background": "light"
     },
     "output_type": "display_data"
    }
   ],
   "source": [
    "print(history.history['loss'])\n",
    "plt.plot(history.history['loss'])\n",
    "plt.title('Evolução do loss por época')\n",
    "plt.xlabel('Epochs')\n",
    "plt.ylabel('Loss')\n",
    "plt.show()"
   ]
  },
  {
   "cell_type": "code",
   "execution_count": 8,
   "metadata": {},
   "outputs": [
    {
     "name": "stdout",
     "output_type": "stream",
     "text": [
      "550/550 [==============================] - 0s 60us/sample - loss: 38.8007 - mean_absolute_error: 5.0877\n"
     ]
    }
   ],
   "source": [
    "lossEvaluate, acc = model.evaluate(x_array, y_array)"
   ]
  },
  {
   "cell_type": "code",
   "execution_count": 9,
   "metadata": {},
   "outputs": [
    {
     "name": "stdout",
     "output_type": "stream",
     "text": [
      "38.80066468672319\n"
     ]
    }
   ],
   "source": [
    "print(lossEvaluate)"
   ]
  },
  {
   "cell_type": "markdown",
   "metadata": {},
   "source": [
    "Manipulando o dataset para previsão"
   ]
  },
  {
   "cell_type": "code",
   "execution_count": 18,
   "metadata": {},
   "outputs": [
    {
     "name": "stdout",
     "output_type": "stream",
     "text": [
      "(549, 1)\n",
      "(549, 4)\n",
      "(549, 4)\n"
     ]
    }
   ],
   "source": [
    "p1_array = x_array[1:550, 0:4]\n",
    "p2_array = x_array[0:549, 5:]\n",
    "w_array = model.predict(x_array)\n",
    "w_array = w_array[0:549, :]\n",
    "\n",
    "print(w_array.shape)\n",
    "print(p1_array.shape)\n",
    "print(p2_array.shape)\n",
    "\n",
    "new_array = np.hstack((p1_array, w_array, p2_array))"
   ]
  },
  {
   "cell_type": "markdown",
   "metadata": {},
   "source": [
    "Métricas para avaliação: R, R2, Fac2, MSE e MAE"
   ]
  },
  {
   "cell_type": "code",
   "execution_count": 21,
   "metadata": {},
   "outputs": [
    {
     "name": "stdout",
     "output_type": "stream",
     "text": [
      "MAE:  0.29291555\n",
      "MSE:  0.6311909\n",
      "R2:  0.9596744858118311\n"
     ]
    }
   ],
   "source": [
    "vel = model.predict(new_array)\n",
    "mae = sk.metrics.mean_absolute_error(w_array, vel)\n",
    "mse = sk.metrics.mean_squared_error(w_array, vel)\n",
    "R2 = sk.metrics.r2_score(w_array, vel)\n",
    "print('MAE: ', mae)\n",
    "print('MSE: ', mse)\n",
    "print('R2: ', R2)"
   ]
  },
  {
   "cell_type": "code",
   "execution_count": 37,
   "metadata": {
    "scrolled": true
   },
   "outputs": [
    {
     "name": "stdout",
     "output_type": "stream",
     "text": [
      "R:  Tensor(\"truediv_24:0\", shape=(), dtype=float32)\n",
      "Fac2:  Tensor(\"Mean_38:0\", shape=(), dtype=float32)\n"
     ]
    }
   ],
   "source": [
    "predconvert = tf.convert_to_tensor(vel)\n",
    "realconvert = tf.convert_to_tensor(w_array)\n",
    "R = ai.pearson_r(realconvert, predconvert)\n",
    "Fac2 = ai.fac2(realconvert, predconvert)\n",
    "#x = tf.dtypes.cast(R, tf.float32)\n",
    "#y = tf.dtypes.cast(Fac2, tf.float32)\n",
    "print('R: ', R)\n",
    "print('Fac2: ', Fac2)"
   ]
  },
  {
   "cell_type": "code",
   "execution_count": null,
   "metadata": {},
   "outputs": [],
   "source": []
  }
 ],
 "metadata": {
  "kernelspec": {
   "display_name": "Python 3",
   "language": "python",
   "name": "python3"
  },
  "language_info": {
   "codemirror_mode": {
    "name": "ipython",
    "version": 3
   },
   "file_extension": ".py",
   "mimetype": "text/x-python",
   "name": "python",
   "nbconvert_exporter": "python",
   "pygments_lexer": "ipython3",
   "version": "3.7.4"
  }
 },
 "nbformat": 4,
 "nbformat_minor": 2
}
